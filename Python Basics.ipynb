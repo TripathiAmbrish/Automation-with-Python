{
 "cells": [
  {
   "cell_type": "markdown",
   "id": "122629af-a73f-4979-8115-31dcf3689906",
   "metadata": {},
   "source": [
    "#### Lists"
   ]
  },
  {
   "cell_type": "code",
   "execution_count": 2,
   "id": "6fa94dcf-143b-4920-9456-ab53151acefb",
   "metadata": {},
   "outputs": [
    {
     "name": "stdout",
     "output_type": "stream",
     "text": [
      "[22, 'Hello', 12.2, 4, 'Hi']\n",
      "12.2\n",
      "[22, 'Hello', 12.2, 4, 'Hi']\n"
     ]
    }
   ],
   "source": [
    "lst = [22,\"Hello\",12.2,4,\"Hi\"] #list, stores all data types\n",
    "print(lst)\n",
    "print(lst[2]) #stored in index and reverse index order.\n",
    "print(lst[:]) # a new copy or a shallow copy of the lsit\n"
   ]
  },
  {
   "cell_type": "code",
   "execution_count": 3,
   "id": "d3ea9afa-c31b-4b1a-9af0-de3af5ab5e0e",
   "metadata": {},
   "outputs": [
    {
     "name": "stdout",
     "output_type": "stream",
     "text": [
      "[22, 'Hello', 12.2, 4, 'Hi', 121, 'Salute']\n",
      "[22, 'Hello', 12.2, 4, 'Hi', 122, 'Salute']\n",
      "[22, 'Hello', 12.2, 4, 'Hi', 122, 'Salute', '1:1']\n",
      "[22, 'Hello', 11.2, 132, 4, 'Hi', 122, 'Salute', '1:1']\n",
      "[22, 'Hello', 11.2, 132, 4, 'Hi', 122, '1:1']\n"
     ]
    }
   ],
   "source": [
    "lst = lst + [121, 'Salute'] # lists can be concatenated\n",
    "print(lst)\n",
    "\n",
    "lst[-2] = 122 # lists are mutable\n",
    "print(lst)\n",
    "\n",
    "lst.append(\"1:1\") # append list\n",
    "print(lst)\n",
    "\n",
    "lst[2:3] = [11.2, 132] # replacing with range\n",
    "print(lst)\n",
    "\n",
    "lst[7:8] = [] # remove elements (does not work with -ve range)\n",
    "print(lst)\n"
   ]
  },
  {
   "cell_type": "code",
   "execution_count": 4,
   "id": "090bdacd-8cd4-4b18-a18a-ed2700c9ac50",
   "metadata": {},
   "outputs": [
    {
     "name": "stdout",
     "output_type": "stream",
     "text": [
      "[]\n"
     ]
    }
   ],
   "source": [
    "lst[:] = [] #to remove entire list\n",
    "print(lst)\n"
   ]
  },
  {
   "cell_type": "code",
   "execution_count": 5,
   "id": "5d2d3a0c-dddf-4dbc-b056-2de292e3896e",
   "metadata": {},
   "outputs": [
    {
     "name": "stdout",
     "output_type": "stream",
     "text": [
      "6\n",
      "[[2, 3, 5, 'A', 7, 'B'], [1, 4, 6, 'C', 8, 'D']]\n",
      "[1, 4, 6, 'C', 8, 'D']\n",
      "6\n"
     ]
    }
   ],
   "source": [
    "lst2 = [2,3,5,\"A\",7,\"B\"] # length of the list\n",
    "print(len(lst2))\n",
    "\n",
    "lst3 = [1,4,6,\"C\",8,\"D\"]\n",
    "lst4 = [lst2, lst3] # nested list\n",
    "print(lst4)\n",
    "\n",
    "print(lst4[1]) # can view, replace nested list\n",
    "print(lst4[1][2]) # to view element of the nested list\n"
   ]
  },
  {
   "cell_type": "markdown",
   "id": "a9193f65-e937-4b76-8c34-e0d9081b8968",
   "metadata": {},
   "source": [
    "#### IF-ELSE Condition"
   ]
  },
  {
   "cell_type": "code",
   "execution_count": 1,
   "id": "76963931-0cfc-40fc-a306-6a2e65ccf608",
   "metadata": {},
   "outputs": [
    {
     "name": "stdin",
     "output_type": "stream",
     "text": [
      "Enter an integer:  -23\n"
     ]
    },
    {
     "name": "stdout",
     "output_type": "stream",
     "text": [
      "is a negative integer\n"
     ]
    }
   ],
   "source": [
    "x = int(input(\"Enter an integer: \"))\n",
    "\n",
    "if x < 0:\n",
    "    print(\"is a negative integer\")\n",
    "elif x==0:\n",
    "    print(\"is a zero integer\")\n",
    "else:\n",
    "    print(\"is a positive integer\")\n"
   ]
  },
  {
   "cell_type": "code",
   "execution_count": 2,
   "id": "10a1e91c-b725-4b6e-b4fd-d19ab0aca1fe",
   "metadata": {},
   "outputs": [
    {
     "name": "stdin",
     "output_type": "stream",
     "text": [
      "Enter your salary:  937\n"
     ]
    },
    {
     "name": "stdout",
     "output_type": "stream",
     "text": [
      "1037\n"
     ]
    }
   ],
   "source": [
    "salary = int(input(\"Enter your salary: \"))\n",
    "\n",
    "if salary < 500:\n",
    "    salary = salary+50\n",
    "elif salary >= 500 and salary <= 1000:\n",
    "    salary = salary+100\n",
    "else:\n",
    "    salary = salary+150\n",
    "    \n",
    "print(salary)\n"
   ]
  },
  {
   "cell_type": "code",
   "execution_count": 3,
   "id": "7b2ce2a2-2bed-43e7-845e-6e85c681d183",
   "metadata": {},
   "outputs": [
    {
     "name": "stdout",
     "output_type": "stream",
     "text": [
      "salary 1037\n",
      "Total Salary = 1037\n"
     ]
    }
   ],
   "source": [
    "# print strings and numerical values without any concatenation\n",
    "print(\"salary \"+str(salary)) # str method\n",
    "print(f'{\"Total Salary = \"}{salary}') # fstring method\n"
   ]
  },
  {
   "cell_type": "code",
   "execution_count": null,
   "id": "0cdcb88c-8534-42aa-9787-4e71a4f7d1a3",
   "metadata": {},
   "outputs": [],
   "source": [
    "#### FOR and WHILE Loops"
   ]
  },
  {
   "cell_type": "code",
   "execution_count": 4,
   "id": "bd9e1bc7-f6e8-4943-b14f-3f6d2a9a61dd",
   "metadata": {},
   "outputs": [
    {
     "name": "stdout",
     "output_type": "stream",
     "text": [
      "0 Hello\n",
      "1 Hello\n",
      "2 Hello\n",
      "3 Hello\n",
      "4 Hello\n",
      "End of while loop\n",
      "-----------\n"
     ]
    }
   ],
   "source": [
    "num = 0\n",
    "while (num<5):\n",
    "    print(num, \"Hello\")\n",
    "    num = num+1\n",
    "else:\n",
    "    print(\"End of while loop\")\n",
    "\n",
    "print(\"-----------\")\n"
   ]
  },
  {
   "cell_type": "code",
   "execution_count": 8,
   "id": "d06a14c6-50c4-4d0c-8e9f-4ed46e46bb8c",
   "metadata": {},
   "outputs": [
    {
     "name": "stdout",
     "output_type": "stream",
     "text": [
      "Java\n",
      "Python\n",
      "C#\n"
     ]
    }
   ],
   "source": [
    "langs = {\"Java\": 1, \"Python\": 2, \"C#\": 3}\n",
    "for i in langs:\n",
    "    print(i)"
   ]
  },
  {
   "cell_type": "code",
   "execution_count": 12,
   "id": "c6b730ff-905c-43d8-9d44-7fe434ab43fd",
   "metadata": {},
   "outputs": [
    {
     "name": "stdout",
     "output_type": "stream",
     "text": [
      "0\n",
      "1\n",
      "2\n"
     ]
    }
   ],
   "source": [
    "# to print only the index number\n",
    "for i in range(len(langs)):\n",
    "    print(i)"
   ]
  },
  {
   "cell_type": "code",
   "execution_count": 18,
   "id": "08646f1f-3f21-46a3-ae52-fc5d5bd73557",
   "metadata": {},
   "outputs": [
    {
     "name": "stdout",
     "output_type": "stream",
     "text": [
      "Aman\n",
      "Chaman\n",
      "Raman\n",
      "Name not found\n"
     ]
    }
   ],
   "source": [
    "# to peint the element within seperately\n",
    "name = [\"Aman\", \"Chaman\", \"Raman\"]\n",
    "for i in range(len(name)):\n",
    "    print(name[i])\n",
    "else:\n",
    "    print(\"Name not found\")"
   ]
  },
  {
   "cell_type": "code",
   "execution_count": 19,
   "id": "7eba1eb2-2a56-462d-bf2a-98ac4ad56864",
   "metadata": {},
   "outputs": [
    {
     "name": "stdout",
     "output_type": "stream",
     "text": [
      "0 Aman\n",
      "1 Chaman\n",
      "2 Raman\n",
      "Name not found\n"
     ]
    }
   ],
   "source": [
    "# to peint the element within seperately\n",
    "name = [\"Aman\", \"Chaman\", \"Raman\"]\n",
    "for i in range(len(name)):\n",
    "    print(i,name[i])\n",
    "else:\n",
    "    print(\"Name not found\")"
   ]
  },
  {
   "cell_type": "code",
   "execution_count": 28,
   "id": "07ea9d89-9aaa-4e2f-a4ba-f3afa6bcf1dc",
   "metadata": {},
   "outputs": [
    {
     "name": "stdout",
     "output_type": "stream",
     "text": [
      "\n",
      "1 \n",
      "2 2 \n",
      "3 3 3 \n",
      "4 4 4 4 \n"
     ]
    }
   ],
   "source": [
    "for i in range(0,5):\n",
    "    for j in range(i):\n",
    "        print(i, end=\" \")\n",
    "    print()"
   ]
  },
  {
   "cell_type": "markdown",
   "id": "1c6b6fa2-e84e-451c-83f2-bc3a284ef636",
   "metadata": {},
   "source": [
    "#### BREAK and CONTINUE"
   ]
  },
  {
   "cell_type": "code",
   "execution_count": 32,
   "id": "8d08d45a-f4e6-4c59-9b62-d9be2bbdc030",
   "metadata": {},
   "outputs": [
    {
     "name": "stdout",
     "output_type": "stream",
     "text": [
      "1\n",
      "2\n",
      "3\n",
      "Found 3\n"
     ]
    }
   ],
   "source": [
    "cnt = 0\n",
    "while cnt < 5:\n",
    "    cnt = cnt+1\n",
    "    print(cnt)\n",
    "    if(cnt==3):\n",
    "        print(\"Found 3\")\n",
    "        break"
   ]
  },
  {
   "cell_type": "code",
   "execution_count": 33,
   "id": "f0230dc8-cd7e-4a4b-ac30-7a9cb723394c",
   "metadata": {},
   "outputs": [
    {
     "name": "stdout",
     "output_type": "stream",
     "text": [
      "1\n",
      "2\n",
      "3\n",
      "Found 3\n",
      "4\n",
      "5\n"
     ]
    }
   ],
   "source": [
    "cnt = 0\n",
    "while cnt < 5:\n",
    "    cnt = cnt+1\n",
    "    print(cnt)\n",
    "    if(cnt==3):\n",
    "        print(\"Found 3\")\n",
    "        continue"
   ]
  },
  {
   "cell_type": "code",
   "execution_count": 43,
   "id": "454d43fb-5d12-4db1-bb1a-d8edbe791b35",
   "metadata": {},
   "outputs": [
    {
     "name": "stdout",
     "output_type": "stream",
     "text": [
      "A\n",
      "B\n",
      "C\n",
      "D\n",
      "E\n",
      "F\n",
      "Found 'F'\n",
      "I have found letter F\n"
     ]
    }
   ],
   "source": [
    "alphabs = [\"A\",\"B\",\"C\",\"D\",\"E\",\"F\",\"G\",\"G\"]\n",
    "flag = False\n",
    "for i in range(len(alphabs)):\n",
    "    print(alphabs[i])\n",
    "    if(alphabs[i]==\"F\"):\n",
    "        print(\"Found 'F'\")\n",
    "        flag = True\n",
    "        break\n",
    "if(flag):\n",
    "    print(\"I have found letter F\")"
   ]
  },
  {
   "cell_type": "code",
   "execution_count": 45,
   "id": "a708fcc8-b01f-4fde-9174-5d6b4f0faab2",
   "metadata": {},
   "outputs": [
    {
     "name": "stdout",
     "output_type": "stream",
     "text": [
      "A\n",
      "B\n",
      "C\n",
      "D\n",
      "E\n",
      "F\n",
      "G\n",
      "G\n",
      "Uh Oh! Not found 'H'\n"
     ]
    }
   ],
   "source": [
    "alphabs = [\"A\",\"B\",\"C\",\"D\",\"E\",\"F\",\"G\",\"G\"]\n",
    "flag = False\n",
    "for i in range(len(alphabs)):\n",
    "    print(alphabs[i])\n",
    "    if(alphabs[i]==\"H\"):\n",
    "        print(\"Found 'H'\")\n",
    "        flag = True\n",
    "        break\n",
    "if(flag):\n",
    "    print(\"I have found letter H\")\n",
    "else:\n",
    "    print(\"Uh Oh! Not found 'H'\")"
   ]
  },
  {
   "cell_type": "markdown",
   "id": "9358d359-41ae-417b-9d95-cd18f08ddd65",
   "metadata": {},
   "source": [
    "#### Functions"
   ]
  },
  {
   "cell_type": "code",
   "execution_count": 47,
   "id": "0293e5e8-7707-4f1e-bfa9-d11b51091772",
   "metadata": {},
   "outputs": [
    {
     "name": "stdout",
     "output_type": "stream",
     "text": [
      "Hello\n"
     ]
    }
   ],
   "source": [
    "# without parameter and only printing\n",
    "def word():\n",
    "    print(\"Hello\")\n",
    "word()"
   ]
  },
  {
   "cell_type": "code",
   "execution_count": 49,
   "id": "1c1bfbb4-8dc7-48ba-9cbc-9a1032aeb05e",
   "metadata": {},
   "outputs": [
    {
     "name": "stdout",
     "output_type": "stream",
     "text": [
      "33\n"
     ]
    }
   ],
   "source": [
    "# giving a para,eter and providing a logic\n",
    "def add_ten(x):\n",
    "    print(x+10)\n",
    "add_ten(23)"
   ]
  },
  {
   "cell_type": "code",
   "execution_count": 54,
   "id": "f004195d-98f7-4e41-88b3-a2e775d53350",
   "metadata": {},
   "outputs": [
    {
     "name": "stdout",
     "output_type": "stream",
     "text": [
      "india\n",
      "Australia\n"
     ]
    }
   ],
   "source": [
    "# giving a default parameter, means if nothing provided then function will give default parameter as output\n",
    "def champion(team=\"india\"):\n",
    "    print(team)\n",
    "champion()\n",
    "champion(\"Australia\")"
   ]
  },
  {
   "cell_type": "code",
   "execution_count": 56,
   "id": "0d0bb36d-4735-449a-89b3-a084f29ae9d5",
   "metadata": {},
   "outputs": [
    {
     "name": "stdout",
     "output_type": "stream",
     "text": [
      "a\n",
      "b\n",
      "c\n"
     ]
    }
   ],
   "source": [
    "# using list within a function\n",
    "def alphabets(list):\n",
    "    for alb in list:\n",
    "        print(alb)\n",
    "\n",
    "alphas = ['a','b','c']\n",
    "alphabets(alphas)"
   ]
  },
  {
   "cell_type": "code",
   "execution_count": 58,
   "id": "22eee28d-44cc-474e-b216-b5365f5dd77d",
   "metadata": {},
   "outputs": [
    {
     "data": {
      "text/plain": [
       "3628800"
      ]
     },
     "execution_count": 58,
     "metadata": {},
     "output_type": "execute_result"
    }
   ],
   "source": [
    "# recursive function, a function that is called within itself\n",
    "def fact(num):\n",
    "    if num>1:\n",
    "        num = num * fact(num-1)\n",
    "    return num\n",
    "fact(10)"
   ]
  },
  {
   "cell_type": "code",
   "execution_count": 62,
   "id": "960768d0-c22d-42dc-b340-2fbd32855720",
   "metadata": {},
   "outputs": [
    {
     "name": "stdout",
     "output_type": "stream",
     "text": [
      "Your name is Ambrish Tripathi\n"
     ]
    }
   ],
   "source": [
    "def FullName(firstname,lastname):\n",
    "    print(\"Your name is %s\" %(firstname+\" \"+lastname))\n",
    "\n",
    "FullName(\"Ambrish\",\"Tripathi\")"
   ]
  },
  {
   "cell_type": "code",
   "execution_count": null,
   "id": "73548de4-519c-47ee-91a1-bf6b9d4e303d",
   "metadata": {},
   "outputs": [],
   "source": []
  },
  {
   "cell_type": "code",
   "execution_count": null,
   "id": "052b24f0-6c68-47e7-9105-af2c1388784c",
   "metadata": {},
   "outputs": [],
   "source": []
  },
  {
   "cell_type": "code",
   "execution_count": null,
   "id": "eab5693e-0f1f-450e-9637-4d0a858713bc",
   "metadata": {},
   "outputs": [],
   "source": []
  }
 ],
 "metadata": {
  "kernelspec": {
   "display_name": "Python 3 (ipykernel)",
   "language": "python",
   "name": "python3"
  },
  "language_info": {
   "codemirror_mode": {
    "name": "ipython",
    "version": 3
   },
   "file_extension": ".py",
   "mimetype": "text/x-python",
   "name": "python",
   "nbconvert_exporter": "python",
   "pygments_lexer": "ipython3",
   "version": "3.12.7"
  }
 },
 "nbformat": 4,
 "nbformat_minor": 5
}
