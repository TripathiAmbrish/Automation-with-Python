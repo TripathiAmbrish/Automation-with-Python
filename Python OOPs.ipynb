{
 "cells": [
  {
   "cell_type": "markdown",
   "id": "53b7064b-d119-4f5d-b52d-3eb4b30d9861",
   "metadata": {},
   "source": [
    "#### Class, Object and Constructor"
   ]
  },
  {
   "cell_type": "code",
   "execution_count": null,
   "id": "706328a8-6b16-4f08-9016-44fdf78e4499",
   "metadata": {},
   "outputs": [],
   "source": [
    "# Class defines what data an object can have and it can do/have method and functions\n",
    "# It is compulsory to provide 'self' parameter while writing/defining a function.\n",
    "# class variable is defined within the class and should be independent\n",
    "# instance variable is either an object or a constructor defomed in method or a function and not independent in class\n",
    "\n",
    "class players:\n",
    "\n",
    "    total_matches = 14 # class variable\n",
    "\n",
    "    def __init__(self, team_name):  # creating a constructor\n",
    "        self.team_name = team_name\n",
    "\n",
    "    def intro(self):\n",
    "        print(\"Welcome! \", str(input(\"Enter player name\")))\n",
    "\n",
    "    def str_rate(self):\n",
    "        batsman_scored, ball_faced = int(input()), int(input()) # this cannot be called outside of this\n",
    "                                                                # function in the class, else given error\n",
    "        st_rate = round((batsman_scored/ball_faced)*100, 2)\n",
    "        print(\"Your strike rate for the innings is\", st_rate)\n",
    "\n",
    "obj = players(\"DC\") # creating obj of the class\n",
    "\n",
    "# calling methods, don't call them using class --> players.intro\n",
    "print(obj.total_matches)\n",
    "obj.intro()\n",
    "obj.str_rate()"
   ]
  },
  {
   "cell_type": "markdown",
   "id": "f96e8472-87f3-42f5-a848-80362d25a588",
   "metadata": {},
   "source": [
    "#### DAta hidin and object printing"
   ]
  },
  {
   "cell_type": "code",
   "execution_count": 4,
   "id": "85d1648f-f754-4ba7-b577-0c62662a0658",
   "metadata": {},
   "outputs": [
    {
     "name": "stdout",
     "output_type": "stream",
     "text": [
      "C010H7\n"
     ]
    }
   ],
   "source": [
    "class Client:\n",
    "\n",
    "    # we are creating hidden data or the private member of the class using double underscore\n",
    "    __clientid = \"C010H7\"\n",
    "\n",
    "clt = Client()\n",
    "# print(clt.__clientid) --> this is the wrong way of accessing/calling the private member\n",
    "# instead use this method -->\n",
    "print(clt._Client__clientid) # print(object._yourclass__hiddendata)\n"
   ]
  },
  {
   "cell_type": "code",
   "execution_count": null,
   "id": "22fbe96e-e8c7-4355-8b97-057b99bd0358",
   "metadata": {},
   "outputs": [],
   "source": []
  },
  {
   "cell_type": "code",
   "execution_count": null,
   "id": "bd10875f-9274-4180-b7ef-63ae98df51e4",
   "metadata": {},
   "outputs": [],
   "source": []
  },
  {
   "cell_type": "code",
   "execution_count": null,
   "id": "4f4fe194-48e2-45fe-a733-27734d70d73e",
   "metadata": {},
   "outputs": [],
   "source": []
  }
 ],
 "metadata": {
  "kernelspec": {
   "display_name": "Python 3 (ipykernel)",
   "language": "python",
   "name": "python3"
  },
  "language_info": {
   "codemirror_mode": {
    "name": "ipython",
    "version": 3
   },
   "file_extension": ".py",
   "mimetype": "text/x-python",
   "name": "python",
   "nbconvert_exporter": "python",
   "pygments_lexer": "ipython3",
   "version": "3.12.7"
  }
 },
 "nbformat": 4,
 "nbformat_minor": 5
}
