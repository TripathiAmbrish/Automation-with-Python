{
 "cells": [
  {
   "cell_type": "markdown",
   "id": "53b7064b-d119-4f5d-b52d-3eb4b30d9861",
   "metadata": {},
   "source": [
    "#### Class, Object and Constructor"
   ]
  },
  {
   "cell_type": "code",
   "execution_count": null,
   "id": "706328a8-6b16-4f08-9016-44fdf78e4499",
   "metadata": {},
   "outputs": [],
   "source": [
    "# Class defines what data an object can have and it can do/have method and functions\n",
    "# It is compulsory to provide 'self' parameter while writing/defining a function.\n",
    "# class variable is defined within the class and should be independent\n",
    "# instance variable is either an object or a constructor defomed in method or a function and not independent in class\n",
    "\n",
    "class players:\n",
    "\n",
    "    total_matches = 14 # class variable\n",
    "\n",
    "    def __init__(self, team_name):  # creating a constructor\n",
    "        self.team_name = team_name\n",
    "\n",
    "    def intro(self):\n",
    "        print(\"Welcome! \", str(input(\"Enter player name\")))\n",
    "\n",
    "    def str_rate(self):\n",
    "        batsman_scored, ball_faced = int(input()), int(input()) # this cannot be called outside of this\n",
    "                                                                # function in the class, else given error\n",
    "        st_rate = round((batsman_scored/ball_faced)*100, 2)\n",
    "        print(\"Your strike rate for the innings is\", st_rate)\n",
    "\n",
    "obj = players(\"DC\") # creating obj of the class\n",
    "\n",
    "# calling methods, don't call them using class --> players.intro\n",
    "print(obj.total_matches)\n",
    "obj.intro()\n",
    "obj.str_rate()"
   ]
  },
  {
   "cell_type": "markdown",
   "id": "f96e8472-87f3-42f5-a848-80362d25a588",
   "metadata": {},
   "source": [
    "#### DAta hidin and object printing"
   ]
  },
  {
   "cell_type": "code",
   "execution_count": 4,
   "id": "85d1648f-f754-4ba7-b577-0c62662a0658",
   "metadata": {},
   "outputs": [
    {
     "name": "stdout",
     "output_type": "stream",
     "text": [
      "C010H7\n"
     ]
    }
   ],
   "source": [
    "class Client:\n",
    "\n",
    "    # we are creating hidden data or the private member of the class using double underscore\n",
    "    __clientid = \"C010H7\"\n",
    "\n",
    "clt = Client()\n",
    "# print(clt.__clientid) --> this is the wrong way of accessing/calling the private member\n",
    "# instead use this method -->\n",
    "print(clt._Client__clientid) # print(object._yourclass__hiddendata)\n"
   ]
  },
  {
   "cell_type": "markdown",
   "id": "14b87686-fc48-4dac-96e5-c083311e10ed",
   "metadata": {},
   "source": [
    "#### Set objects"
   ]
  },
  {
   "cell_type": "code",
   "execution_count": 3,
   "id": "bd10875f-9274-4180-b7ef-63ae98df51e4",
   "metadata": {},
   "outputs": [
    {
     "name": "stdout",
     "output_type": "stream",
     "text": [
      "{1, 2, 3, 'Hi'}\n",
      "['SET', 'Hi', 'set', 'grep', 'ls']\n",
      "{'4', 'j', 'a', 'f', 'b', '3', 'v'}\n"
     ]
    }
   ],
   "source": [
    "# Set is unodered set of elements, does not store values based on indexinf as lists and tuple does.\n",
    "# It store different types of values as lists and tuples.\n",
    "# It performs different mathematical oprations\n",
    "# set is also an object available in the form of collection and set is also a function\n",
    "\n",
    "s1 = {1,2,2,3,\"Hi\", True}\n",
    "s2 = [\"SET\",\"Hi\",\"set\",\"grep\",\"ls\"]\n",
    "\n",
    "# if your set has duplicate values then while printing it will display unique values\n",
    "print(s1)\n",
    "print(s2)\n",
    "\n",
    "# to create a set of anything --> strings, digits, lists, tuples and others.\n",
    "s3 = set (\"abjfba334v34j\")\n",
    "print(s3)"
   ]
  },
  {
   "cell_type": "code",
   "execution_count": null,
   "id": "4f4fe194-48e2-45fe-a733-27734d70d73e",
   "metadata": {},
   "outputs": [],
   "source": []
  },
  {
   "cell_type": "code",
   "execution_count": null,
   "id": "7b3bd98c-2712-40fe-b137-56a0805c1e32",
   "metadata": {},
   "outputs": [],
   "source": []
  },
  {
   "cell_type": "code",
   "execution_count": null,
   "id": "86c575d7-f53b-46de-8e07-20d0b9c62a19",
   "metadata": {},
   "outputs": [],
   "source": []
  },
  {
   "cell_type": "code",
   "execution_count": null,
   "id": "0a8347e6-dfa6-407c-8816-9c22133d2729",
   "metadata": {},
   "outputs": [],
   "source": []
  }
 ],
 "metadata": {
  "kernelspec": {
   "display_name": "Python 3 (ipykernel)",
   "language": "python",
   "name": "python3"
  },
  "language_info": {
   "codemirror_mode": {
    "name": "ipython",
    "version": 3
   },
   "file_extension": ".py",
   "mimetype": "text/x-python",
   "name": "python",
   "nbconvert_exporter": "python",
   "pygments_lexer": "ipython3",
   "version": "3.12.7"
  }
 },
 "nbformat": 4,
 "nbformat_minor": 5
}
